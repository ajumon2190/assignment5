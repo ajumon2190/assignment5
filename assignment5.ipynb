{
 "cells": [
  {
   "cell_type": "markdown",
   "metadata": {
    "id": "6aRvzWzbhcnp"
   },
   "source": [
    "#Data Acquisition Case Study"
   ]
  },
  {
   "cell_type": "markdown",
   "metadata": {
    "id": "734JDyUNq8fH"
   },
   "source": [
    "## Q1. Write Python code to create a new file named \"sample_data.txt\" in your documents folder and write the following content to it\n",
    "\n",
    "ICTAK\n",
    "\n",
    "Thejaswini,\n",
    "\n",
    "Technopark Rd,\n",
    "\n",
    "Technopark Campus,\n",
    "\n",
    "Thiruvananthapuram,\n",
    "\n",
    "Kerala 695581"
   ]
  },
  {
   "cell_type": "code",
   "execution_count": 1,
   "metadata": {
    "id": "ieKhqBr-nl7s"
   },
   "outputs": [
    {
     "name": "stdout",
     "output_type": "stream",
     "text": [
      "File 'sample_data.txt' created at: C:\\Users\\ARJUN\\Documents\\sample_data.txt\n"
     ]
    }
   ],
   "source": [
    "# Write your code here\n",
    "import os\n",
    "\n",
    "folder = os.path.join(os.path.expanduser(\"~\"), \"Documents\")\n",
    "file_path = os.path.join(folder, \"sample_data.txt\")\n",
    "content = \"\"\"ICTAK \\n\n",
    "Thejaswini, \\n\n",
    "Technopark Rd, \\n\n",
    "Technopark Campus, \\n\n",
    "Thiruvananthapuram, \\n\n",
    "Kerala 695581\"\"\"\n",
    "\n",
    "with open(file_path, \"w\") as file:\n",
    "    file.write(content)\n",
    "\n",
    "print(f\"File 'sample_data.txt' created at: {file_path}\")"
   ]
  },
  {
   "cell_type": "markdown",
   "metadata": {
    "id": "aJ6hQOJpimNv"
   },
   "source": [
    "## Q2. Write Python code to read and print the contents in \"sample_data.txt\""
   ]
  },
  {
   "cell_type": "code",
   "execution_count": 2,
   "metadata": {
    "id": "vRnilPQgnrPG"
   },
   "outputs": [
    {
     "name": "stdout",
     "output_type": "stream",
     "text": [
      "ICTAK \n",
      "\n",
      "Thejaswini, \n",
      "\n",
      "Technopark Rd, \n",
      "\n",
      "Technopark Campus, \n",
      "\n",
      "Thiruvananthapuram, \n",
      "\n",
      "Kerala 695581\n"
     ]
    }
   ],
   "source": [
    "# Write your code here\n",
    "import os\n",
    "with open(\"sample_data.txt\",\"r\") as file:\n",
    "    content = file.read()\n",
    "    print(content)"
   ]
  },
  {
   "cell_type": "markdown",
   "metadata": {
    "id": "9aHquDcErda-"
   },
   "source": [
    "## Q3. Write Python code to check if \"sample_data.txt\" exists in documents folder"
   ]
  },
  {
   "cell_type": "code",
   "execution_count": 3,
   "metadata": {
    "id": "vY5TEsxunsKh"
   },
   "outputs": [
    {
     "name": "stdout",
     "output_type": "stream",
     "text": [
      "file exists.\n"
     ]
    }
   ],
   "source": [
    "# Write your code here\n",
    "import os\n",
    "if os.path.exists(\"sample_data.txt\"):\n",
    "    print(\"file exists.\")\n",
    "else:\n",
    "    print(\"file does not exists.\")"
   ]
  },
  {
   "cell_type": "markdown",
   "metadata": {
    "id": "BCWITkmopblI"
   },
   "source": [
    "## Q4: Save the following dataframe content to a CSV file (data.csv) in your downloads folder"
   ]
  },
  {
   "cell_type": "code",
   "execution_count": 4,
   "metadata": {
    "id": "r3THwBOGpP9F"
   },
   "outputs": [],
   "source": [
    "import pandas as pd\n",
    "\n",
    "data = {\"Id\": [1, 2, 3],\n",
    "        \"Name\": [\"Alice\", \"Bob\", \"Charlie\"],\n",
    "        \"Subject\": [\"Science\", \"Maths\", \"History\"]}\n",
    "df = pd.DataFrame(data)"
   ]
  },
  {
   "cell_type": "code",
   "execution_count": 5,
   "metadata": {
    "id": "Joc7XafnntaG"
   },
   "outputs": [
    {
     "name": "stdout",
     "output_type": "stream",
     "text": [
      "File saved to: C:\\Users\\ARJUN\\Downloads\\data.csv\n"
     ]
    }
   ],
   "source": [
    "# Write your code here\n",
    "downloads_path = os.path.join(os.path.expanduser(\"~\"), \"Downloads\", \"data.csv\")\n",
    "df.to_csv(downloads_path, index=False)\n",
    "print(f\"File saved to: {downloads_path}\")\n"
   ]
  },
  {
   "cell_type": "markdown",
   "metadata": {
    "id": "VF0nJjGElq0A"
   },
   "source": [
    "## Q5: Save the above dataframe content to an Excel (data.xlsx, sheet name: Sheet1) file in your documents folder"
   ]
  },
  {
   "cell_type": "code",
   "execution_count": 6,
   "metadata": {
    "id": "ZtOFb7ZJnu1m"
   },
   "outputs": [
    {
     "name": "stdout",
     "output_type": "stream",
     "text": [
      "File saved to: C:\\Users\\ARJUN\\Documents\\data.xlsx\n"
     ]
    }
   ],
   "source": [
    "# Write your code here\n",
    "documents_path = os.path.join(os.path.expanduser(\"~\"), \"Documents\", \"data.xlsx\")\n",
    "df.to_excel(documents_path, sheet_name=\"Sheet1\", index=False)\n",
    "print(f\"File saved to: {documents_path}\")"
   ]
  },
  {
   "cell_type": "markdown",
   "metadata": {
    "id": "amF6kxMQmdgF"
   },
   "source": [
    "## Q6. Write code to get the list of files in your Downloads folder and save it to a CSV file name \"download_list.csv\""
   ]
  },
  {
   "cell_type": "code",
   "execution_count": 7,
   "metadata": {
    "id": "nVP86z3dnvwz"
   },
   "outputs": [
    {
     "name": "stdout",
     "output_type": "stream",
     "text": [
      "File list saved to: C:\\Users\\ARJUN\\Downloads\\download_list.csv\n"
     ]
    }
   ],
   "source": [
    "# Write your code here\n",
    "\n",
    "downloads_path = os.path.join(os.path.expanduser(\"~\"), \"Downloads\")\n",
    "file_list = os.listdir(downloads_path)\n",
    "df = pd.DataFrame({\"Files\": file_list})\n",
    "csv_path = os.path.join(downloads_path, \"download_list.csv\")\n",
    "df.to_csv(csv_path, index=False)\n",
    "print(f\"File list saved to: {csv_path}\")\n"
   ]
  },
  {
   "cell_type": "markdown",
   "metadata": {
    "id": "vR7I4R5bnV2w"
   },
   "source": [
    "## Q7. Write Python code to save the contents of the given random_array variable as a numpy file"
   ]
  },
  {
   "cell_type": "code",
   "execution_count": 8,
   "metadata": {
    "id": "vHXYRxnDnJzA"
   },
   "outputs": [],
   "source": [
    "import numpy as np\n",
    "random_array = np.random.rand(10, 10)"
   ]
  },
  {
   "cell_type": "code",
   "execution_count": 9,
   "metadata": {
    "id": "ihhSKJF9n3NP"
   },
   "outputs": [
    {
     "name": "stdout",
     "output_type": "stream",
     "text": [
      "array saved as 'array.npy'\n"
     ]
    }
   ],
   "source": [
    "# Write your code here\n",
    "\n",
    "np.save(\"array.npy\",random_array)\n",
    "print(\"array saved as 'array.npy'\")"
   ]
  },
  {
   "cell_type": "markdown",
   "metadata": {
    "id": "V7XfHgGAzNIl"
   },
   "source": [
    "## Q8. Write python code to save the contents of the above numpy file as text file named \"random.txt\" with a delimitter of \";\" to Documents folder"
   ]
  },
  {
   "cell_type": "code",
   "execution_count": 10,
   "metadata": {
    "id": "Du3LRbaKbpeg"
   },
   "outputs": [
    {
     "name": "stdout",
     "output_type": "stream",
     "text": [
      "Array saved as text file at: C:\\Users\\ARJUN\\Documents\\random.txt\n"
     ]
    }
   ],
   "source": [
    "# Write your code here\n",
    "documents_path = os.path.join(os.path.expanduser(\"~\"), \"Documents\", \"random.txt\")\n",
    "np.savetxt(documents_path, random_array, delimiter=\";\")\n",
    "print(f\"Array saved as text file at: {documents_path}\")\n"
   ]
  },
  {
   "cell_type": "markdown",
   "metadata": {
    "id": "nJSaX0Rg151y"
   },
   "source": [
    "## Download and analyze Bike Sharing Dataset (hour.csv) for UCI Irvin Repository (https://archive.ics.uci.edu/dataset/275/bike+sharing+dataset) and answer the following questions"
   ]
  },
  {
   "cell_type": "markdown",
   "metadata": {
    "id": "-wt4mxq32U6H"
   },
   "source": [
    "## Q9. What is the size of the dataset? (Number of rows and columns)\n",
    "\n"
   ]
  },
  {
   "cell_type": "code",
   "execution_count": 11,
   "metadata": {
    "id": "Pj0I0JhF2EEg"
   },
   "outputs": [
    {
     "name": "stdout",
     "output_type": "stream",
     "text": [
      "number of rows: 17379\n",
      "number of columns: 17\n"
     ]
    }
   ],
   "source": [
    "# Write your code here\n",
    "import pandas as pd\n",
    "df = pd.read_csv(os.path.join(\"given data\",\"hour.csv\"))\n",
    "rows,cols = df.shape\n",
    "print(f\"number of rows: {rows}\")\n",
    "print(f\"number of columns: {cols}\")\n",
    "\n"
   ]
  },
  {
   "cell_type": "markdown",
   "metadata": {
    "id": "GbDnC_i438m8"
   },
   "source": [
    "## Q10. What are the data types of each column?\n"
   ]
  },
  {
   "cell_type": "code",
   "execution_count": 12,
   "metadata": {
    "id": "_YJIqJEZ3-DC"
   },
   "outputs": [
    {
     "name": "stdout",
     "output_type": "stream",
     "text": [
      "\n",
      "Data types of each column: instant         int64\n",
      "dteday         object\n",
      "season          int64\n",
      "yr              int64\n",
      "mnth            int64\n",
      "hr              int64\n",
      "holiday         int64\n",
      "weekday         int64\n",
      "workingday      int64\n",
      "weathersit      int64\n",
      "temp          float64\n",
      "atemp         float64\n",
      "hum           float64\n",
      "windspeed     float64\n",
      "casual          int64\n",
      "registered      int64\n",
      "cnt             int64\n",
      "dtype: object\n"
     ]
    }
   ],
   "source": [
    "# Write your code here\n",
    "print(\"\\nData types of each column:\",df.dtypes)"
   ]
  },
  {
   "cell_type": "markdown",
   "metadata": {
    "id": "zi0jHMq-3_NI"
   },
   "source": [
    "## Q11. Are there any missing values in the dataset? If so, which columns have missing values and how many?"
   ]
  },
  {
   "cell_type": "code",
   "execution_count": 13,
   "metadata": {
    "id": "mct7F2M-3-kQ"
   },
   "outputs": [
    {
     "name": "stdout",
     "output_type": "stream",
     "text": [
      "instant       0\n",
      "dteday        0\n",
      "season        0\n",
      "yr            0\n",
      "mnth          0\n",
      "hr            0\n",
      "holiday       0\n",
      "weekday       0\n",
      "workingday    0\n",
      "weathersit    0\n",
      "temp          0\n",
      "atemp         0\n",
      "hum           0\n",
      "windspeed     0\n",
      "casual        0\n",
      "registered    0\n",
      "cnt           0\n",
      "dtype: int64\n"
     ]
    }
   ],
   "source": [
    "# Write your code here\n",
    "missing_values = df.isnull().sum()\n",
    "print(missing_values)"
   ]
  },
  {
   "cell_type": "markdown",
   "metadata": {
    "id": "Ew__56Iq4BMK"
   },
   "source": [
    "## Q.12. For the windspeed column, calculate the mean, median, and standard deviation."
   ]
  },
  {
   "cell_type": "code",
   "execution_count": 14,
   "metadata": {
    "id": "ucijLTNA4Clr"
   },
   "outputs": [
    {
     "name": "stdout",
     "output_type": "stream",
     "text": [
      "\n",
      "Windspeed Statistics:\n",
      "Mean: 0.1900976063064618\n",
      "Median: 0.194\n",
      "Standard Deviation: 0.12234022857279049\n"
     ]
    }
   ],
   "source": [
    "# Write your code here\n",
    "mean_windspeed = df[\"windspeed\"].mean()\n",
    "median_windspeed = df[\"windspeed\"].median()\n",
    "std_windspeed = df[\"windspeed\"].std()\n",
    "\n",
    "print(\"\\nWindspeed Statistics:\")\n",
    "print(f\"Mean: {mean_windspeed}\")\n",
    "print(f\"Median: {median_windspeed}\")\n",
    "print(f\"Standard Deviation: {std_windspeed}\")"
   ]
  },
  {
   "cell_type": "markdown",
   "metadata": {
    "id": "3dHaYtuP4C78"
   },
   "source": [
    "## Q13. Identify any potential outliers in a numerical column of your choice. Explain your approach.\n"
   ]
  },
  {
   "cell_type": "code",
   "execution_count": 15,
   "metadata": {
    "id": "nVkU-okb4EiU"
   },
   "outputs": [
    {
     "name": "stdout",
     "output_type": "stream",
     "text": [
      "Potential outliers in 'windspeed' column:\n",
      " 175      0.4925\n",
      "178      0.5522\n",
      "194      0.5224\n",
      "196      0.5224\n",
      "265      0.5821\n",
      "          ...  \n",
      "17327    0.5522\n",
      "17328    0.4925\n",
      "17341    0.5821\n",
      "17343    0.5821\n",
      "17344    0.6567\n",
      "Name: windspeed, Length: 342, dtype: float64\n"
     ]
    }
   ],
   "source": [
    "# Write your code here\n",
    "col = \"windspeed\"\n",
    "Q1 = df[col].quantile(0.25)\n",
    "Q3 = df[col].quantile(0.75)\n",
    "IQR = Q3 - Q1\n",
    "\n",
    "lower_bound = Q1 - 1.5 * IQR\n",
    "upper_bound = Q3 + 1.5 * IQR\n",
    "\n",
    "outliers = df[(df[col] < lower_bound) | (df[col] > upper_bound)]\n",
    "\n",
    "print(f\"Potential outliers in '{col}' column:\\n\", outliers[col])"
   ]
  },
  {
   "cell_type": "markdown",
   "metadata": {
    "id": "14sUq8ZF4E88"
   },
   "source": [
    "## Q.14 Find the correlation between numerical columns and discuss any interesting relationships."
   ]
  },
  {
   "cell_type": "code",
   "execution_count": 16,
   "metadata": {
    "id": "jnAOuuwt4Hmb"
   },
   "outputs": [
    {
     "name": "stdout",
     "output_type": "stream",
     "text": [
      "\n",
      "Correlation between numerical columns:\n",
      "             instant    season        yr      mnth        hr   holiday  \\\n",
      "instant     1.000000  0.404046  0.866014  0.489164 -0.004775  0.014723   \n",
      "season      0.404046  1.000000 -0.010742  0.830386 -0.006117 -0.009585   \n",
      "yr          0.866014 -0.010742  1.000000 -0.010473 -0.003867  0.006692   \n",
      "mnth        0.489164  0.830386 -0.010473  1.000000 -0.005772  0.018430   \n",
      "hr         -0.004775 -0.006117 -0.003867 -0.005772  1.000000  0.000479   \n",
      "holiday     0.014723 -0.009585  0.006692  0.018430  0.000479  1.000000   \n",
      "weekday     0.001357 -0.002335 -0.004485  0.010400 -0.003498 -0.102088   \n",
      "workingday -0.003416  0.013743 -0.002196 -0.003477  0.002285 -0.252471   \n",
      "weathersit -0.014198 -0.014524 -0.019157  0.005400 -0.020203 -0.017036   \n",
      "temp        0.136178  0.312025  0.040913  0.201691  0.137603 -0.027340   \n",
      "atemp       0.137615  0.319380  0.039222  0.208096  0.133750 -0.030973   \n",
      "hum         0.009577  0.150625 -0.083546  0.164411 -0.276498 -0.010588   \n",
      "windspeed  -0.074505 -0.149773 -0.008740 -0.135386  0.137252  0.003988   \n",
      "casual      0.158295  0.120206  0.142779  0.068457  0.301202  0.031564   \n",
      "registered  0.282046  0.174226  0.253684  0.122273  0.374141 -0.047345   \n",
      "cnt         0.278379  0.178056  0.250495  0.120638  0.394071 -0.030927   \n",
      "\n",
      "             weekday  workingday  weathersit      temp     atemp       hum  \\\n",
      "instant     0.001357   -0.003416   -0.014198  0.136178  0.137615  0.009577   \n",
      "season     -0.002335    0.013743   -0.014524  0.312025  0.319380  0.150625   \n",
      "yr         -0.004485   -0.002196   -0.019157  0.040913  0.039222 -0.083546   \n",
      "mnth        0.010400   -0.003477    0.005400  0.201691  0.208096  0.164411   \n",
      "hr         -0.003498    0.002285   -0.020203  0.137603  0.133750 -0.276498   \n",
      "holiday    -0.102088   -0.252471   -0.017036 -0.027340 -0.030973 -0.010588   \n",
      "weekday     1.000000    0.035955    0.003311 -0.001795 -0.008821 -0.037158   \n",
      "workingday  0.035955    1.000000    0.044672  0.055390  0.054667  0.015688   \n",
      "weathersit  0.003311    0.044672    1.000000 -0.102640 -0.105563  0.418130   \n",
      "temp       -0.001795    0.055390   -0.102640  1.000000  0.987672 -0.069881   \n",
      "atemp      -0.008821    0.054667   -0.105563  0.987672  1.000000 -0.051918   \n",
      "hum        -0.037158    0.015688    0.418130 -0.069881 -0.051918  1.000000   \n",
      "windspeed   0.011502   -0.011830    0.026226 -0.023125 -0.062336 -0.290105   \n",
      "casual      0.032721   -0.300942   -0.152628  0.459616  0.454080 -0.347028   \n",
      "registered  0.021578    0.134326   -0.120966  0.335361  0.332559 -0.273933   \n",
      "cnt         0.026900    0.030284   -0.142426  0.404772  0.400929 -0.322911   \n",
      "\n",
      "            windspeed    casual  registered       cnt  \n",
      "instant     -0.074505  0.158295    0.282046  0.278379  \n",
      "season      -0.149773  0.120206    0.174226  0.178056  \n",
      "yr          -0.008740  0.142779    0.253684  0.250495  \n",
      "mnth        -0.135386  0.068457    0.122273  0.120638  \n",
      "hr           0.137252  0.301202    0.374141  0.394071  \n",
      "holiday      0.003988  0.031564   -0.047345 -0.030927  \n",
      "weekday      0.011502  0.032721    0.021578  0.026900  \n",
      "workingday  -0.011830 -0.300942    0.134326  0.030284  \n",
      "weathersit   0.026226 -0.152628   -0.120966 -0.142426  \n",
      "temp        -0.023125  0.459616    0.335361  0.404772  \n",
      "atemp       -0.062336  0.454080    0.332559  0.400929  \n",
      "hum         -0.290105 -0.347028   -0.273933 -0.322911  \n",
      "windspeed    1.000000  0.090287    0.082321  0.093234  \n",
      "casual       0.090287  1.000000    0.506618  0.694564  \n",
      "registered   0.082321  0.506618    1.000000  0.972151  \n",
      "cnt          0.093234  0.694564    0.972151  1.000000  \n"
     ]
    }
   ],
   "source": [
    "# Write your code here\n",
    "numerical_df = df.select_dtypes(include=[\"number\"])\n",
    "correlation_matrix = numerical_df.corr()\n",
    "\n",
    "print(\"\\nCorrelation between numerical columns:\")\n",
    "print(correlation_matrix)\n"
   ]
  },
  {
   "cell_type": "markdown",
   "metadata": {
    "id": "ru-xlbd44IAY"
   },
   "source": [
    "## Q.15 Based on your analysis, provide a brief summary of any insights or patterns you discovered in the dataset."
   ]
  },
  {
   "cell_type": "code",
   "execution_count": 17,
   "metadata": {
    "id": "15NUIdxK4I03"
   },
   "outputs": [],
   "source": [
    "# Write your code here\n",
    "\n",
    "#Seasonal and Weather Influence:\n",
    "#Here temperature and rentals show a strong positive correlation, meaning people rent more bikes in warmer weather.\n",
    "#Windspeed has a weak negative impact on bike usage, indicating strong winds slightly reduce rentals.\n",
    "\n",
    "#Time-based Patterns:\n",
    "#Here rentals peak during morning (8 AM) and evening (5-6 PM) rush hours, aligning with work commutes.\n",
    "#Weekdays have higher rentals than weekends, supporting a work-related usage pattern.\n",
    "\n",
    "#Outliers & Variability:\n",
    "#Some extreme values in windspeed and casual user counts may indicate anomalies."
   ]
  },
  {
   "cell_type": "markdown",
   "metadata": {
    "id": "iMGro15Q5WhF"
   },
   "source": [
    "## Q.16 In which season (Spring, Summer, Fall, Winter) people rented bikes the most?"
   ]
  },
  {
   "cell_type": "code",
   "execution_count": 18,
   "metadata": {
    "id": "KhlVV_bK5jxm"
   },
   "outputs": [
    {
     "name": "stdout",
     "output_type": "stream",
     "text": [
      "Bike Rentals per Season:\n",
      " season\n",
      "Fall       841613\n",
      "Spring     918589\n",
      "Summer    1061129\n",
      "Winter     471348\n",
      "Name: cnt, dtype: int64\n",
      "\n",
      "The season with the highest bike rentals is: Summer\n"
     ]
    }
   ],
   "source": [
    "# Write your code here\n",
    "\n",
    "season_mapping = {1: \"Winter\", 2: \"Spring\", 3: \"Summer\", 4: \"Fall\"}\n",
    "df[\"season\"] = df[\"season\"].map(season_mapping)\n",
    "season_rentals = df.groupby(\"season\")[\"cnt\"].sum()\n",
    "most_popular_season = season_rentals.idxmax()\n",
    "print(\"Bike Rentals per Season:\\n\", season_rentals)\n",
    "print(f\"\\nThe season with the highest bike rentals is: {most_popular_season}\")"
   ]
  },
  {
   "cell_type": "markdown",
   "metadata": {
    "id": "eudb_1Lb5sVc"
   },
   "source": [
    "## Q.17 What is the peak hour in which bike rents the most?"
   ]
  },
  {
   "cell_type": "code",
   "execution_count": 19,
   "metadata": {
    "id": "p0xSgv8g50yt"
   },
   "outputs": [
    {
     "name": "stdout",
     "output_type": "stream",
     "text": [
      "Bike Rentals by Hour:\n",
      " hr\n",
      "0      39130\n",
      "1      24164\n",
      "2      16352\n",
      "3       8174\n",
      "4       4428\n",
      "5      14261\n",
      "6      55132\n",
      "7     154171\n",
      "8     261001\n",
      "9     159438\n",
      "10    126257\n",
      "11    151320\n",
      "12    184414\n",
      "13    184919\n",
      "14    175652\n",
      "15    183149\n",
      "16    227748\n",
      "17    336860\n",
      "18    309772\n",
      "19    226789\n",
      "20    164550\n",
      "21    125445\n",
      "22     95612\n",
      "23     63941\n",
      "Name: cnt, dtype: int64\n",
      "\n",
      "The peak rental hour is 17:00 with 336860 rentals.\n"
     ]
    }
   ],
   "source": [
    "# Write your code here\n",
    "hourly_rentals = df.groupby(\"hr\")[\"cnt\"].sum()\n",
    "peak_hour = hourly_rentals.idxmax()\n",
    "max_rentals = hourly_rentals.max()\n",
    "print(\"Bike Rentals by Hour:\\n\", hourly_rentals)\n",
    "print(f\"\\nThe peak rental hour is {peak_hour}:00 with {max_rentals} rentals.\")"
   ]
  },
  {
   "cell_type": "markdown",
   "metadata": {
    "id": "y7rArqGQ6ji4"
   },
   "source": [
    "## Q.18 In which day of a week bikes rents out most?"
   ]
  },
  {
   "cell_type": "code",
   "execution_count": 20,
   "metadata": {
    "id": "6GPCbpsx6oYE"
   },
   "outputs": [
    {
     "name": "stdout",
     "output_type": "stream",
     "text": [
      "Bike Rentals by Weekday:\n",
      " weekday\n",
      "Friday       487790\n",
      "Monday       455503\n",
      "Saturday     477807\n",
      "Sunday       444027\n",
      "Thursday     485395\n",
      "Tuesday      469109\n",
      "Wednesday    473048\n",
      "Name: cnt, dtype: int64\n",
      "\n",
      "The day with the highest bike rentals is Friday with 487790 rentals.\n"
     ]
    }
   ],
   "source": [
    "# Write your code here\n",
    "weekday_mapping = {0: \"Sunday\", 1: \"Monday\", 2: \"Tuesday\", 3: \"Wednesday\", 4: \"Thursday\", 5: \"Friday\", 6: \"Saturday\"}\n",
    "df[\"weekday\"] = df[\"weekday\"].map(weekday_mapping)\n",
    "weekday_rentals = df.groupby(\"weekday\")[\"cnt\"].sum()\n",
    "busiest_day = weekday_rentals.idxmax()\n",
    "max_rentals = weekday_rentals.max()\n",
    "print(\"Bike Rentals by Weekday:\\n\", weekday_rentals)\n",
    "print(f\"\\nThe day with the highest bike rentals is {busiest_day} with {max_rentals} rentals.\")"
   ]
  },
  {
   "cell_type": "markdown",
   "metadata": {
    "id": "bFO_Twk66qw-"
   },
   "source": [
    "## Q.19 In which hour Casual users rents bikes the most?"
   ]
  },
  {
   "cell_type": "code",
   "execution_count": 21,
   "metadata": {
    "id": "59CHoEUt66GR"
   },
   "outputs": [
    {
     "name": "stdout",
     "output_type": "stream",
     "text": [
      "Casual Bike Rentals by Hour:\n",
      " hr\n",
      "0      7375\n",
      "1      4709\n",
      "2      3412\n",
      "3      1893\n",
      "4       874\n",
      "5      1012\n",
      "6      3017\n",
      "7      8037\n",
      "8     15761\n",
      "9     22458\n",
      "10    33789\n",
      "11    43286\n",
      "12    49718\n",
      "13    52713\n",
      "14    55089\n",
      "15    54606\n",
      "16    53834\n",
      "17    54220\n",
      "18    44496\n",
      "19    35505\n",
      "20    26378\n",
      "21    20570\n",
      "22    16200\n",
      "23    11065\n",
      "Name: casual, dtype: int64\n",
      "\n",
      "The peak rental hour for casual users is 14:00 with 55089 rentals.\n"
     ]
    }
   ],
   "source": [
    "# Write your code here\n",
    "hourly_casual_rentals = df.groupby(\"hr\")[\"casual\"].sum()\n",
    "peak_hour = hourly_casual_rentals.idxmax()\n",
    "max_rentals = hourly_casual_rentals.max()\n",
    "print(\"Casual Bike Rentals by Hour:\\n\", hourly_casual_rentals)\n",
    "print(f\"\\nThe peak rental hour for casual users is {peak_hour}:00 with {max_rentals} rentals.\")"
   ]
  },
  {
   "cell_type": "markdown",
   "metadata": {
    "id": "wtvgNN-U69rh"
   },
   "source": [
    "## Q.20 What is the maximum temperature observed in each of the seasons?"
   ]
  },
  {
   "cell_type": "code",
   "execution_count": 22,
   "metadata": {
    "id": "U_NwDHv57tLT"
   },
   "outputs": [
    {
     "name": "stdout",
     "output_type": "stream",
     "text": [
      "season\n",
      "Fall      0.76\n",
      "Spring    0.94\n",
      "Summer    1.00\n",
      "Winter    0.72\n",
      "Name: temp, dtype: float64\n"
     ]
    }
   ],
   "source": [
    "# Write your code here\n",
    "max_temp_per_season = df.groupby(\"season\")[\"temp\"].max()\n",
    "print(max_temp_per_season)"
   ]
  },
  {
   "cell_type": "code",
   "execution_count": null,
   "metadata": {},
   "outputs": [],
   "source": []
  }
 ],
 "metadata": {
  "colab": {
   "provenance": []
  },
  "kernelspec": {
   "display_name": "Python 3 (ipykernel)",
   "language": "python",
   "name": "python3"
  },
  "language_info": {
   "codemirror_mode": {
    "name": "ipython",
    "version": 3
   },
   "file_extension": ".py",
   "mimetype": "text/x-python",
   "name": "python",
   "nbconvert_exporter": "python",
   "pygments_lexer": "ipython3",
   "version": "3.13.2"
  }
 },
 "nbformat": 4,
 "nbformat_minor": 4
}
